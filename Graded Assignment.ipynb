{
 "cells": [
  {
   "cell_type": "markdown",
   "id": "2033d4a6-1232-4b04-852e-790d60600f38",
   "metadata": {},
   "source": [
    "# My Jupyter Notebook on IBM Watson Studio"
   ]
  },
  {
   "cell_type": "markdown",
   "id": "d35bb300-6023-4dd6-9aef-f5e0c4df45e0",
   "metadata": {},
   "source": [
    "__Amit Trivedi__<br>\n",
    "Data Analyst"
   ]
  },
  {
   "cell_type": "markdown",
   "id": "09804f74-b088-4953-b84b-cca188eca7b6",
   "metadata": {},
   "source": [
    "My current job profile is to generate reports. So, i have to play with Data alot. This is the reason i would like to make my careeer in Data Sceince."
   ]
  },
  {
   "cell_type": "markdown",
   "id": "3dcdc5b5-5d79-4971-9ef8-489dec54536e",
   "metadata": {},
   "source": [
    "### In this notebook i will multiply 15 with 15"
   ]
  },
  {
   "cell_type": "code",
   "execution_count": 1,
   "id": "fe069a8a-d06c-4953-ad12-2dd69896ef54",
   "metadata": {},
   "outputs": [
    {
     "data": {
      "text/plain": [
       "225"
      ]
     },
     "execution_count": 1,
     "metadata": {},
     "output_type": "execute_result"
    }
   ],
   "source": [
    "15*15"
   ]
  },
  {
   "cell_type": "markdown",
   "id": "c3968ab8-789a-41a4-b1a7-c1bf2288f214",
   "metadata": {},
   "source": [
    "This is sample of Table followd by bulleted text\n",
    "***\n",
    "Sr. No | Tool Name \n",
    "--- | ---\n",
    "1 | Python\n",
    "2 | R\n",
    "3 | SQL\n",
    "***\n",
    "* Point One\n",
    "* Point Two\n",
    "* Point Three\n",
    "***\n",
    "1. First Line\n",
    "2. Second Line\n",
    "3. Third Line"
   ]
  },
  {
   "cell_type": "code",
   "execution_count": null,
   "id": "d9eb10f2-35f9-45fb-b15c-91505e8ab168",
   "metadata": {},
   "outputs": [],
   "source": []
  },
  {
   "cell_type": "code",
   "execution_count": null,
   "id": "30b2da9d-18d9-40d2-bad6-5b5874127a80",
   "metadata": {},
   "outputs": [],
   "source": []
  }
 ],
 "metadata": {
  "kernelspec": {
   "display_name": "Python",
   "language": "python",
   "name": "conda-env-python-py"
  },
  "language_info": {
   "codemirror_mode": {
    "name": "ipython",
    "version": 3
   },
   "file_extension": ".py",
   "mimetype": "text/x-python",
   "name": "python",
   "nbconvert_exporter": "python",
   "pygments_lexer": "ipython3",
   "version": "3.7.12"
  }
 },
 "nbformat": 4,
 "nbformat_minor": 5
}
